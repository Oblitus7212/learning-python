{
 "cells": [
  {
   "cell_type": "code",
   "execution_count": 1,
   "id": "8615944d",
   "metadata": {},
   "outputs": [
    {
     "name": "stdout",
     "output_type": "stream",
     "text": [
      "0    a\n",
      "1    b\n",
      "2    c\n",
      "3    d\n",
      "dtype: object\n"
     ]
    }
   ],
   "source": [
    "import pandas as pd\n",
    "import numpy as np\n",
    "data = np.array(['a','b','c','d'])\n",
    "s1 = pd.Series(data)\n",
    "print(s1)"
   ]
  },
  {
   "cell_type": "code",
   "execution_count": 2,
   "id": "d3455261",
   "metadata": {},
   "outputs": [
    {
     "name": "stdout",
     "output_type": "stream",
     "text": [
      "0    1\n",
      "1    2\n",
      "2    3\n",
      "3    4\n",
      "dtype: int32\n"
     ]
    }
   ],
   "source": [
    "data = np.array([1,2,3,4])\n",
    "s2 = pd.Series(data)\n",
    "print(s2)"
   ]
  },
  {
   "cell_type": "markdown",
   "id": "06f61f44",
   "metadata": {},
   "source": [
    "variable type in table are difference"
   ]
  },
  {
   "cell_type": "code",
   "execution_count": 3,
   "id": "0be99b39",
   "metadata": {},
   "outputs": [
    {
     "name": "stdout",
     "output_type": "stream",
     "text": [
      "0    1\n",
      "1    a\n",
      "2    3\n",
      "3    b\n",
      "dtype: object\n"
     ]
    }
   ],
   "source": [
    "data = np.array([1,'a',3,'b'])\n",
    "s3 = pd.Series(data)\n",
    "print(s3)"
   ]
  },
  {
   "cell_type": "markdown",
   "id": "17209466",
   "metadata": {},
   "source": [
    "Type object"
   ]
  },
  {
   "cell_type": "code",
   "execution_count": 4,
   "id": "1f8da55f",
   "metadata": {},
   "outputs": [
    {
     "name": "stdout",
     "output_type": "stream",
     "text": [
      "100    a\n",
      "101    b\n",
      "102    c\n",
      "103    d\n",
      "dtype: object\n"
     ]
    }
   ],
   "source": [
    "data = np.array(['a','b','c','d'])\n",
    "s = pd.Series(data,index=[100,101,102,103])\n",
    "print(s)"
   ]
  },
  {
   "cell_type": "markdown",
   "id": "6cbd4a38",
   "metadata": {},
   "source": [
    "yes, it is change"
   ]
  },
  {
   "cell_type": "code",
   "execution_count": 5,
   "id": "a0664f64",
   "metadata": {},
   "outputs": [
    {
     "name": "stdout",
     "output_type": "stream",
     "text": [
      "1\n"
     ]
    }
   ],
   "source": [
    "s = pd.Series([1,2,3,4,5],index = ['a','b','c','d','e'])\n",
    "print(s[0])"
   ]
  },
  {
   "cell_type": "markdown",
   "id": "c515b5f2",
   "metadata": {},
   "source": [
    "# Exercise: Write a code to retrieve (show) only the first three elements in Series s"
   ]
  },
  {
   "cell_type": "code",
   "execution_count": 6,
   "id": "125af48a",
   "metadata": {},
   "outputs": [
    {
     "name": "stdout",
     "output_type": "stream",
     "text": [
      "1 2 3\n"
     ]
    }
   ],
   "source": [
    "print(s[0],s[1],s[2])"
   ]
  },
  {
   "cell_type": "markdown",
   "id": "b83de9ec",
   "metadata": {},
   "source": [
    "# Exercise: Let try to use an index (e.g. ‘a’) to access the element in Series s"
   ]
  },
  {
   "cell_type": "code",
   "execution_count": 7,
   "id": "532bfe3e",
   "metadata": {},
   "outputs": [
    {
     "name": "stdout",
     "output_type": "stream",
     "text": [
      "a    1\n",
      "b    2\n",
      "c    3\n",
      "d    4\n",
      "e    5\n",
      "dtype: int64\n"
     ]
    }
   ],
   "source": [
    "print(s[['a','b','c','d','e']])"
   ]
  },
  {
   "cell_type": "code",
   "execution_count": 8,
   "id": "0e7c6f57",
   "metadata": {},
   "outputs": [
    {
     "name": "stdout",
     "output_type": "stream",
     "text": [
      "Empty DataFrame\n",
      "Columns: []\n",
      "Index: []\n"
     ]
    }
   ],
   "source": [
    "import pandas as pd\n",
    "df = pd.DataFrame()\n",
    "print(df)"
   ]
  },
  {
   "cell_type": "code",
   "execution_count": 9,
   "id": "ef46eaeb",
   "metadata": {},
   "outputs": [
    {
     "name": "stdout",
     "output_type": "stream",
     "text": [
      "   0\n",
      "0  1\n",
      "1  2\n",
      "2  3\n",
      "3  4\n",
      "4  5\n"
     ]
    }
   ],
   "source": [
    "data = [1,2,3,4,5]\n",
    "df1 = pd.DataFrame(data)\n",
    "print(df1)"
   ]
  },
  {
   "cell_type": "code",
   "execution_count": 10,
   "id": "ec701c4e",
   "metadata": {},
   "outputs": [
    {
     "name": "stdout",
     "output_type": "stream",
     "text": [
      "     Name  Age\n",
      "0    Alex   10\n",
      "1     Bob   12\n",
      "2  Clarke   13\n"
     ]
    }
   ],
   "source": [
    "data = [['Alex',10],['Bob',12],['Clarke',13]]\n",
    "df2 = pd.DataFrame(data,columns=['Name','Age'])\n",
    "print(df2)"
   ]
  },
  {
   "cell_type": "code",
   "execution_count": 11,
   "id": "6bd7677e",
   "metadata": {},
   "outputs": [
    {
     "name": "stdout",
     "output_type": "stream",
     "text": [
      "    Name  Age\n",
      "0    Tom   28\n",
      "1   Jack   34\n",
      "2  Steve   29\n",
      "3  Ricky   42\n"
     ]
    }
   ],
   "source": [
    "data = {'Name':['Tom', 'Jack', 'Steve', 'Ricky'],\n",
    "'Age':[28,34,29,42]}\n",
    "df = pd.DataFrame(data)\n",
    "print(df)"
   ]
  },
  {
   "cell_type": "code",
   "execution_count": 12,
   "id": "4ba504c8",
   "metadata": {},
   "outputs": [
    {
     "name": "stdout",
     "output_type": "stream",
     "text": [
      "   one  two\n",
      "a  1.0    1\n",
      "b  2.0    2\n",
      "c  3.0    3\n",
      "d  NaN    4\n"
     ]
    }
   ],
   "source": [
    "d = {'one' : pd.Series([1, 2, 3], index=['a', 'b', 'c']),\n",
    "'two' : pd.Series([1, 2, 3, 4], index=['a', 'b', 'c', 'd'])}\n",
    "df = pd.DataFrame(d)\n",
    "print(df)"
   ]
  },
  {
   "cell_type": "markdown",
   "id": "cecc9cfe",
   "metadata": {},
   "source": [
    "we have NaN because the first series not have the 4th elemental"
   ]
  },
  {
   "cell_type": "markdown",
   "id": "4f1560ea",
   "metadata": {},
   "source": [
    "# Exercise: now, this is your turn to create the following table as Dataframe and name this table as studentDF."
   ]
  },
  {
   "cell_type": "code",
   "execution_count": 13,
   "id": "ada1f6f3",
   "metadata": {},
   "outputs": [
    {
     "name": "stdout",
     "output_type": "stream",
     "text": [
      "\tTable 1: studentDF Dataframe\n",
      "   Math  C programming  Java  Web programming\n",
      "0    90             70    50               55\n",
      "1    10             20    41               66\n",
      "2    34             25    67               23\n",
      "3    23             32    34               76\n",
      "4    43             73    23               67\n"
     ]
    }
   ],
   "source": [
    "data = {'Math' : pd.Series([90,10,34,23,43], index=[0,1, 2, 3,4]),\n",
    "'C programming' : pd.Series([70, 20, 25, 32,73], index=[0,1, 2, 3,4]),\n",
    "'Java' : pd.Series([50, 41, 67, 34,23], index=[0,1, 2, 3,4]),\n",
    "'Web programming' : pd.Series([55, 66, 23, 76,67], index=[0,1, 2, 3,4])}\n",
    "print(\"\\tTable 1: studentDF Dataframe\")\n",
    "data = pd.DataFrame(data)\n",
    "print(data)"
   ]
  },
  {
   "cell_type": "code",
   "execution_count": 14,
   "id": "cdd0aa61",
   "metadata": {},
   "outputs": [
    {
     "name": "stdout",
     "output_type": "stream",
     "text": [
      "   Math  C programming  Java  Web programming\n",
      "0    90             70    50               55\n",
      "1    10             20    41               66\n",
      "2    34             25    67               23\n",
      "3    23             32    34               76\n",
      "4    43             73    23               67\n",
      "   Math  C programming  Java  Web programming\n",
      "2    34             25    67               23\n",
      "3    23             32    34               76\n",
      "Math               90\n",
      "C programming      70\n",
      "Java               50\n",
      "Web programming    55\n",
      "Name: 0, dtype: int64\n",
      "Math               34\n",
      "C programming      25\n",
      "Java               67\n",
      "Web programming    23\n",
      "Name: 2, dtype: int64\n",
      "   Math  C programming  Java  Web programming\n",
      "0    90             70    50               55\n",
      "1    10             20    41               66\n",
      "2    34             25    67               23\n"
     ]
    }
   ],
   "source": [
    "print(data)\n",
    "4\n",
    "print(data[2:4]) #Slice Rows\n",
    "print(data.loc[0])\n",
    "print(data.loc[2])\n",
    "print(data.loc[0:2])"
   ]
  },
  {
   "cell_type": "code",
   "execution_count": 15,
   "id": "7d47982e",
   "metadata": {},
   "outputs": [
    {
     "name": "stdout",
     "output_type": "stream",
     "text": [
      "   a  b\n",
      "0  1  2\n",
      "1  3  4\n",
      "0  5  6\n",
      "1  7  8\n"
     ]
    }
   ],
   "source": [
    "df = pd.DataFrame([[1, 2], [3, 4]], columns = ['a','b'])\n",
    "df2 = pd.DataFrame([[5, 6], [7, 8]], columns = ['a','b'])\n",
    "df = df.append(df2)\n",
    "print(df)"
   ]
  },
  {
   "cell_type": "markdown",
   "id": "1fc219a6",
   "metadata": {},
   "source": [
    "# Exercise: use append to add the following table to table studentDF that you have created in the previous exercise."
   ]
  },
  {
   "cell_type": "code",
   "execution_count": 16,
   "id": "a18db044",
   "metadata": {},
   "outputs": [
    {
     "name": "stdout",
     "output_type": "stream",
     "text": [
      "   Math  C programming  Java  Web programming\n",
      "0    90             70    50               55\n",
      "1    10             20    41               66\n",
      "2    34             25    67               23\n",
      "3    23             32    34               76\n",
      "4    43             73    23               67\n",
      "5    59             37    84               82\n",
      "6    41             34    73               55\n"
     ]
    }
   ],
   "source": [
    "d = {'Math' : pd.Series([59,41], index=[5,6]),\n",
    "     'C programming' : pd.Series([37,34], index=[5,6]),\n",
    "     'Java' : pd.Series([84,73], index=[5,6]),\n",
    "     'Web programming' : pd.Series([82,55], index=[5,6])}\n",
    "df = pd.DataFrame(d)\n",
    "data =data.append(df)\n",
    "print(data)"
   ]
  },
  {
   "cell_type": "markdown",
   "id": "5ee235fc",
   "metadata": {},
   "source": [
    "# Exercise: use drop function to remove the last row from table studentDF."
   ]
  },
  {
   "cell_type": "code",
   "execution_count": 17,
   "id": "0ef3eef1",
   "metadata": {},
   "outputs": [
    {
     "name": "stdout",
     "output_type": "stream",
     "text": [
      "   Math  C programming  Java  Web programming\n",
      "0    90             70    50               55\n",
      "1    10             20    41               66\n",
      "2    34             25    67               23\n",
      "3    23             32    34               76\n",
      "4    43             73    23               67\n",
      "5    59             37    84               82\n"
     ]
    }
   ],
   "source": [
    "data = data.drop(6)\n",
    "print(data)"
   ]
  },
  {
   "cell_type": "markdown",
   "id": "56d717ed",
   "metadata": {},
   "source": [
    "# Milestone 1"
   ]
  },
  {
   "cell_type": "markdown",
   "id": "30dcf7c5",
   "metadata": {},
   "source": [
    "# Exercise: try to apply sum() with table studentDF. What is the result?"
   ]
  },
  {
   "cell_type": "code",
   "execution_count": 18,
   "id": "a80697ad",
   "metadata": {},
   "outputs": [
    {
     "name": "stdout",
     "output_type": "stream",
     "text": [
      "Math               259\n",
      "C programming      257\n",
      "Java               299\n",
      "Web programming    369\n",
      "dtype: int64\n"
     ]
    }
   ],
   "source": [
    "df = pd.DataFrame(data)\n",
    "print(df.sum())"
   ]
  },
  {
   "cell_type": "markdown",
   "id": "453136f8",
   "metadata": {},
   "source": [
    "# Exercise: try to use axis attribute to change the orientation of the summation."
   ]
  },
  {
   "cell_type": "code",
   "execution_count": 19,
   "id": "5b22cd76",
   "metadata": {},
   "outputs": [
    {
     "name": "stdout",
     "output_type": "stream",
     "text": [
      "0    265\n",
      "1    137\n",
      "2    149\n",
      "3    165\n",
      "4    206\n",
      "5    262\n",
      "dtype: int64\n"
     ]
    }
   ],
   "source": [
    "df = pd.DataFrame(data)\n",
    "print(df.sum(axis=1))"
   ]
  },
  {
   "cell_type": "markdown",
   "id": "978012a0",
   "metadata": {},
   "source": [
    "# Exercise: use the above statistical functions on table studentDF, and see the results.\n"
   ]
  },
  {
   "cell_type": "code",
   "execution_count": 20,
   "id": "f3e66623",
   "metadata": {},
   "outputs": [
    {
     "name": "stdout",
     "output_type": "stream",
     "text": [
      "Count  Math               6\n",
      "C programming      6\n",
      "Java               6\n",
      "Web programming    6\n",
      "dtype: int64\n",
      "Sum Math               259\n",
      "C programming      257\n",
      "Java               299\n",
      "Web programming    369\n",
      "dtype: int64\n",
      "Mean  Math               43.166667\n",
      "C programming      42.833333\n",
      "Java               49.833333\n",
      "Web programming    61.500000\n",
      "dtype: float64\n",
      "Median  <bound method NDFrame._add_numeric_operations.<locals>.median of    Math  C programming  Java  Web programming\n",
      "0    90             70    50               55\n",
      "1    10             20    41               66\n",
      "2    34             25    67               23\n",
      "3    23             32    34               76\n",
      "4    43             73    23               67\n",
      "5    59             37    84               82>\n",
      "Mode     Math  C programming  Java  Web programming\n",
      "0    10             20    23               23\n",
      "1    23             25    34               55\n",
      "2    34             32    41               66\n",
      "3    43             37    50               67\n",
      "4    59             70    67               76\n",
      "5    90             73    84               82\n",
      "STD  Math               28.407159\n",
      "C programming      22.973173\n",
      "Java               22.409076\n",
      "Web programming    21.002381\n",
      "dtype: float64\n",
      "Min  Math               10\n",
      "C programming      20\n",
      "Java               23\n",
      "Web programming    23\n",
      "dtype: int64\n",
      "Max  Math               90\n",
      "C programming      73\n",
      "Java               84\n",
      "Web programming    82\n",
      "dtype: int64\n",
      "ABS     Math  C programming  Java  Web programming\n",
      "0    90             70    50               55\n",
      "1    10             20    41               66\n",
      "2    34             25    67               23\n",
      "3    23             32    34               76\n",
      "4    43             73    23               67\n",
      "5    59             37    84               82\n",
      "Prod  Math                1785540600\n",
      "C programming       3025120000\n",
      "Java                9022246800\n",
      "Web programming    34860748560\n",
      "dtype: int64\n",
      "Cumsum     Math  C programming  Java  Web programming\n",
      "0    90             70    50               55\n",
      "1   100             90    91              121\n",
      "2   134            115   158              144\n",
      "3   157            147   192              220\n",
      "4   200            220   215              287\n",
      "5   259            257   299              369\n",
      "Cumprod           Math  C programming        Java  Web programming\n",
      "0          90             70          50               55\n",
      "1         900           1400        2050             3630\n",
      "2       30600          35000      137350            83490\n",
      "3      703800        1120000     4669900          6345240\n",
      "4    30263400       81760000   107407700        425131080\n",
      "5  1785540600     3025120000  9022246800      34860748560\n"
     ]
    }
   ],
   "source": [
    "print('Count ', df.count())\n",
    "print('Sum' ,df.sum())\n",
    "print('Mean ', df.mean())\n",
    "print('Median ', df.median)\n",
    "print('Mode ', df.mode())\n",
    "print('STD ', df.std())\n",
    "print('Min ', df.min())\n",
    "print('Max ', df.max())\n",
    "print('ABS ', df.abs())\n",
    "print('Prod ', df.prod())\n",
    "print('Cumsum ', df.cumsum())\n",
    "print('Cumprod ', df.cumprod())"
   ]
  },
  {
   "cell_type": "markdown",
   "id": "66075af2",
   "metadata": {},
   "source": [
    "# Exercise: use describe() on table studentDF and answer the following questions\n"
   ]
  },
  {
   "cell_type": "code",
   "execution_count": 21,
   "id": "2eddaa50",
   "metadata": {},
   "outputs": [
    {
     "data": {
      "text/html": [
       "<div>\n",
       "<style scoped>\n",
       "    .dataframe tbody tr th:only-of-type {\n",
       "        vertical-align: middle;\n",
       "    }\n",
       "\n",
       "    .dataframe tbody tr th {\n",
       "        vertical-align: top;\n",
       "    }\n",
       "\n",
       "    .dataframe thead th {\n",
       "        text-align: right;\n",
       "    }\n",
       "</style>\n",
       "<table border=\"1\" class=\"dataframe\">\n",
       "  <thead>\n",
       "    <tr style=\"text-align: right;\">\n",
       "      <th></th>\n",
       "      <th>Math</th>\n",
       "      <th>C programming</th>\n",
       "      <th>Java</th>\n",
       "      <th>Web programming</th>\n",
       "    </tr>\n",
       "  </thead>\n",
       "  <tbody>\n",
       "    <tr>\n",
       "      <th>count</th>\n",
       "      <td>6.000000</td>\n",
       "      <td>6.000000</td>\n",
       "      <td>6.000000</td>\n",
       "      <td>6.000000</td>\n",
       "    </tr>\n",
       "    <tr>\n",
       "      <th>mean</th>\n",
       "      <td>43.166667</td>\n",
       "      <td>42.833333</td>\n",
       "      <td>49.833333</td>\n",
       "      <td>61.500000</td>\n",
       "    </tr>\n",
       "    <tr>\n",
       "      <th>std</th>\n",
       "      <td>28.407159</td>\n",
       "      <td>22.973173</td>\n",
       "      <td>22.409076</td>\n",
       "      <td>21.002381</td>\n",
       "    </tr>\n",
       "    <tr>\n",
       "      <th>min</th>\n",
       "      <td>10.000000</td>\n",
       "      <td>20.000000</td>\n",
       "      <td>23.000000</td>\n",
       "      <td>23.000000</td>\n",
       "    </tr>\n",
       "    <tr>\n",
       "      <th>25%</th>\n",
       "      <td>25.750000</td>\n",
       "      <td>26.750000</td>\n",
       "      <td>35.750000</td>\n",
       "      <td>57.750000</td>\n",
       "    </tr>\n",
       "    <tr>\n",
       "      <th>50%</th>\n",
       "      <td>38.500000</td>\n",
       "      <td>34.500000</td>\n",
       "      <td>45.500000</td>\n",
       "      <td>66.500000</td>\n",
       "    </tr>\n",
       "    <tr>\n",
       "      <th>75%</th>\n",
       "      <td>55.000000</td>\n",
       "      <td>61.750000</td>\n",
       "      <td>62.750000</td>\n",
       "      <td>73.750000</td>\n",
       "    </tr>\n",
       "    <tr>\n",
       "      <th>max</th>\n",
       "      <td>90.000000</td>\n",
       "      <td>73.000000</td>\n",
       "      <td>84.000000</td>\n",
       "      <td>82.000000</td>\n",
       "    </tr>\n",
       "  </tbody>\n",
       "</table>\n",
       "</div>"
      ],
      "text/plain": [
       "            Math  C programming       Java  Web programming\n",
       "count   6.000000       6.000000   6.000000         6.000000\n",
       "mean   43.166667      42.833333  49.833333        61.500000\n",
       "std    28.407159      22.973173  22.409076        21.002381\n",
       "min    10.000000      20.000000  23.000000        23.000000\n",
       "25%    25.750000      26.750000  35.750000        57.750000\n",
       "50%    38.500000      34.500000  45.500000        66.500000\n",
       "75%    55.000000      61.750000  62.750000        73.750000\n",
       "max    90.000000      73.000000  84.000000        82.000000"
      ]
     },
     "execution_count": 21,
     "metadata": {},
     "output_type": "execute_result"
    }
   ],
   "source": [
    "df.describe()"
   ]
  },
  {
   "cell_type": "markdown",
   "id": "166408ac",
   "metadata": {},
   "source": [
    "1.What is the mean value of Math score? = 43.166667"
   ]
  },
  {
   "cell_type": "markdown",
   "id": "5807970a",
   "metadata": {},
   "source": [
    "2.What is the score at the third quartile of Java? = 62.75000"
   ]
  },
  {
   "cell_type": "markdown",
   "id": "2f44c9cb",
   "metadata": {},
   "source": [
    "3.What is the standard deviation of Web programming score? = 21.002381"
   ]
  },
  {
   "cell_type": "code",
   "execution_count": 22,
   "id": "f8f325de",
   "metadata": {},
   "outputs": [
    {
     "name": "stdout",
     "output_type": "stream",
     "text": [
      "   Math  C programming  Java  Web programming\n",
      "0  90.0           70.0  50.0             55.0\n",
      "1  10.0           20.0  41.0             66.0\n",
      "2  34.0           25.0  67.0             23.0\n",
      "3  23.0           32.0  34.0             76.0\n",
      "4  43.0           73.0  23.0             67.0\n",
      "5  59.0           37.0  84.0             82.0\n",
      "6   NaN            NaN   NaN              NaN\n",
      "7   NaN            NaN   NaN              NaN\n"
     ]
    }
   ],
   "source": [
    "df = df.reindex([0,1,2,3,4,5,6,7])\n",
    "print(df)"
   ]
  },
  {
   "cell_type": "markdown",
   "id": "8b60bf38",
   "metadata": {},
   "source": [
    "# Exercise: use isnull() and notnull() with table studentDF and see the results."
   ]
  },
  {
   "cell_type": "code",
   "execution_count": 23,
   "id": "e0eedcf7",
   "metadata": {},
   "outputs": [
    {
     "name": "stdout",
     "output_type": "stream",
     "text": [
      "    Math  C programming   Java  Web programming\n",
      "0  False          False  False            False\n",
      "1  False          False  False            False\n",
      "2  False          False  False            False\n",
      "3  False          False  False            False\n",
      "4  False          False  False            False\n",
      "5  False          False  False            False\n",
      "6   True           True   True             True\n",
      "7   True           True   True             True\n",
      "    Math  C programming   Java  Web programming\n",
      "0   True           True   True             True\n",
      "1   True           True   True             True\n",
      "2   True           True   True             True\n",
      "3   True           True   True             True\n",
      "4   True           True   True             True\n",
      "5   True           True   True             True\n",
      "6  False          False  False            False\n",
      "7  False          False  False            False\n"
     ]
    }
   ],
   "source": [
    "print(df.isnull())\n",
    "print(df.notnull())"
   ]
  },
  {
   "cell_type": "markdown",
   "id": "941d3e7b",
   "metadata": {},
   "source": [
    "isnull check is null or not if null return true"
   ]
  },
  {
   "cell_type": "markdown",
   "id": "14292acb",
   "metadata": {},
   "source": [
    "notnull check is null or not if null return false"
   ]
  },
  {
   "cell_type": "code",
   "execution_count": 24,
   "id": "369e12ab",
   "metadata": {},
   "outputs": [
    {
     "name": "stdout",
     "output_type": "stream",
     "text": [
      "   Math  C programming  Java  Web programming\n",
      "0  90.0           70.0  50.0             55.0\n",
      "1  10.0           20.0  41.0             66.0\n",
      "2  34.0           25.0  67.0             23.0\n",
      "3  23.0           32.0  34.0             76.0\n",
      "4  43.0           73.0  23.0             67.0\n",
      "5  59.0           37.0  84.0             82.0\n",
      "6   0.0            0.0   0.0              0.0\n",
      "7   0.0            0.0   0.0              0.0\n",
      "   Math  C programming  Java  Web programming\n",
      "0  90.0           70.0  50.0             55.0\n",
      "1  10.0           20.0  41.0             66.0\n",
      "2  34.0           25.0  67.0             23.0\n",
      "3  23.0           32.0  34.0             76.0\n",
      "4  43.0           73.0  23.0             67.0\n",
      "5  59.0           37.0  84.0             82.0\n",
      "6  59.0           37.0  84.0             82.0\n",
      "7  59.0           37.0  84.0             82.0\n"
     ]
    }
   ],
   "source": [
    "s1 = df\n",
    "s2 = df\n",
    "s1 = s1.fillna(0)\n",
    "s2 = s2.fillna(method='pad')\n",
    "print(s1)\n",
    "print(s2)"
   ]
  },
  {
   "cell_type": "markdown",
   "id": "49dcfeb3",
   "metadata": {},
   "source": [
    "# Exercise: What is the differences between s1 and s2."
   ]
  },
  {
   "cell_type": "markdown",
   "id": "10988bfa",
   "metadata": {},
   "source": [
    "for s2 6 and 7 not 0"
   ]
  },
  {
   "cell_type": "markdown",
   "id": "b31cb472",
   "metadata": {},
   "source": [
    "# Milestone 2"
   ]
  },
  {
   "cell_type": "code",
   "execution_count": 25,
   "id": "bb1762d0",
   "metadata": {},
   "outputs": [
    {
     "name": "stdout",
     "output_type": "stream",
     "text": [
      "   id    Name subject_id\n",
      "0   1    Alex       sub1\n",
      "1   2     Amy       sub2\n",
      "2   3   Allen       sub4\n",
      "3   4   Alice       sub6\n",
      "4   5  Ayoung       sub5\n",
      "   id    subject_name\n",
      "0   1            Math\n",
      "1   2         English\n",
      "2   3  Social Science\n",
      "3   4     Programming\n",
      "4   5         Physics\n"
     ]
    }
   ],
   "source": [
    "left = pd.DataFrame({\n",
    "'id':[1,2,3,4,5],\n",
    "'Name': ['Alex', 'Amy', 'Allen', 'Alice', 'Ayoung'],\n",
    "'subject_id':['sub1','sub2','sub4','sub6','sub5']})\n",
    "right = pd.DataFrame(\n",
    "{'id':[1,2,3,4,5],\n",
    "'subject_name':['Math','English','Social Science','Programming','Physics']})\n",
    "print(left)\n",
    "print(right)"
   ]
  },
  {
   "cell_type": "code",
   "execution_count": 26,
   "id": "f1aa0d05",
   "metadata": {},
   "outputs": [
    {
     "data": {
      "text/html": [
       "<div>\n",
       "<style scoped>\n",
       "    .dataframe tbody tr th:only-of-type {\n",
       "        vertical-align: middle;\n",
       "    }\n",
       "\n",
       "    .dataframe tbody tr th {\n",
       "        vertical-align: top;\n",
       "    }\n",
       "\n",
       "    .dataframe thead th {\n",
       "        text-align: right;\n",
       "    }\n",
       "</style>\n",
       "<table border=\"1\" class=\"dataframe\">\n",
       "  <thead>\n",
       "    <tr style=\"text-align: right;\">\n",
       "      <th></th>\n",
       "      <th>id</th>\n",
       "      <th>Name</th>\n",
       "      <th>subject_id</th>\n",
       "      <th>subject_name</th>\n",
       "    </tr>\n",
       "  </thead>\n",
       "  <tbody>\n",
       "    <tr>\n",
       "      <th>0</th>\n",
       "      <td>1</td>\n",
       "      <td>Alex</td>\n",
       "      <td>sub1</td>\n",
       "      <td>Math</td>\n",
       "    </tr>\n",
       "    <tr>\n",
       "      <th>1</th>\n",
       "      <td>2</td>\n",
       "      <td>Amy</td>\n",
       "      <td>sub2</td>\n",
       "      <td>English</td>\n",
       "    </tr>\n",
       "    <tr>\n",
       "      <th>2</th>\n",
       "      <td>3</td>\n",
       "      <td>Allen</td>\n",
       "      <td>sub4</td>\n",
       "      <td>Social Science</td>\n",
       "    </tr>\n",
       "    <tr>\n",
       "      <th>3</th>\n",
       "      <td>4</td>\n",
       "      <td>Alice</td>\n",
       "      <td>sub6</td>\n",
       "      <td>Programming</td>\n",
       "    </tr>\n",
       "    <tr>\n",
       "      <th>4</th>\n",
       "      <td>5</td>\n",
       "      <td>Ayoung</td>\n",
       "      <td>sub5</td>\n",
       "      <td>Physics</td>\n",
       "    </tr>\n",
       "  </tbody>\n",
       "</table>\n",
       "</div>"
      ],
      "text/plain": [
       "   id    Name subject_id    subject_name\n",
       "0   1    Alex       sub1            Math\n",
       "1   2     Amy       sub2         English\n",
       "2   3   Allen       sub4  Social Science\n",
       "3   4   Alice       sub6     Programming\n",
       "4   5  Ayoung       sub5         Physics"
      ]
     },
     "execution_count": 26,
     "metadata": {},
     "output_type": "execute_result"
    }
   ],
   "source": [
    "merged_table = pd.merge(left,right,on='id')\n",
    "merged_table"
   ]
  },
  {
   "cell_type": "markdown",
   "id": "4c243f08",
   "metadata": {},
   "source": [
    "# Exercise: create table section and create table student"
   ]
  },
  {
   "cell_type": "code",
   "execution_count": 27,
   "id": "e2e71ce5",
   "metadata": {},
   "outputs": [
    {
     "data": {
      "text/html": [
       "<div>\n",
       "<style scoped>\n",
       "    .dataframe tbody tr th:only-of-type {\n",
       "        vertical-align: middle;\n",
       "    }\n",
       "\n",
       "    .dataframe tbody tr th {\n",
       "        vertical-align: top;\n",
       "    }\n",
       "\n",
       "    .dataframe thead th {\n",
       "        text-align: right;\n",
       "    }\n",
       "</style>\n",
       "<table border=\"1\" class=\"dataframe\">\n",
       "  <thead>\n",
       "    <tr style=\"text-align: right;\">\n",
       "      <th></th>\n",
       "      <th>id</th>\n",
       "      <th>section</th>\n",
       "      <th>name</th>\n",
       "      <th>math</th>\n",
       "      <th>eng</th>\n",
       "    </tr>\n",
       "  </thead>\n",
       "  <tbody>\n",
       "    <tr>\n",
       "      <th>0</th>\n",
       "      <td>0</td>\n",
       "      <td>one</td>\n",
       "      <td>Mat</td>\n",
       "      <td>34</td>\n",
       "      <td>23</td>\n",
       "    </tr>\n",
       "    <tr>\n",
       "      <th>1</th>\n",
       "      <td>1</td>\n",
       "      <td>one</td>\n",
       "      <td>Mike</td>\n",
       "      <td>12</td>\n",
       "      <td>13</td>\n",
       "    </tr>\n",
       "    <tr>\n",
       "      <th>2</th>\n",
       "      <td>2</td>\n",
       "      <td>one</td>\n",
       "      <td>John</td>\n",
       "      <td>34</td>\n",
       "      <td>51</td>\n",
       "    </tr>\n",
       "    <tr>\n",
       "      <th>3</th>\n",
       "      <td>3</td>\n",
       "      <td>two</td>\n",
       "      <td>Peecha</td>\n",
       "      <td>12</td>\n",
       "      <td>62</td>\n",
       "    </tr>\n",
       "    <tr>\n",
       "      <th>4</th>\n",
       "      <td>4</td>\n",
       "      <td>two</td>\n",
       "      <td>Prabu</td>\n",
       "      <td>65</td>\n",
       "      <td>12</td>\n",
       "    </tr>\n",
       "    <tr>\n",
       "      <th>5</th>\n",
       "      <td>5</td>\n",
       "      <td>two</td>\n",
       "      <td>Bunchu</td>\n",
       "      <td>23</td>\n",
       "      <td>42</td>\n",
       "    </tr>\n",
       "  </tbody>\n",
       "</table>\n",
       "</div>"
      ],
      "text/plain": [
       "   id section    name  math  eng\n",
       "0   0     one     Mat    34   23\n",
       "1   1     one    Mike    12   13\n",
       "2   2     one    John    34   51\n",
       "3   3     two  Peecha    12   62\n",
       "4   4     two   Prabu    65   12\n",
       "5   5     two  Bunchu    23   42"
      ]
     },
     "execution_count": 27,
     "metadata": {},
     "output_type": "execute_result"
    }
   ],
   "source": [
    "section = pd.DataFrame({\n",
    "'id':[0,1,2,3,4,5],\n",
    "'section': ['one', 'one', 'one', 'two', 'two','two']})\n",
    "student = pd.DataFrame({\n",
    "'id':[0,1,2,3,4,5],\n",
    "'name': ['Mat', 'Mike', 'John', 'Peecha', 'Prabu','Bunchu'],\n",
    "'math': [34, 12, 34, 12, 65, 23],\n",
    "'eng': [23, 13, 51, 62, 12, 42] })\n",
    "merged_table = pd.merge(section,student,on='id')\n",
    "merged_table"
   ]
  },
  {
   "cell_type": "code",
   "execution_count": 28,
   "id": "ed1983e8",
   "metadata": {},
   "outputs": [
    {
     "data": {
      "text/html": [
       "<div>\n",
       "<style scoped>\n",
       "    .dataframe tbody tr th:only-of-type {\n",
       "        vertical-align: middle;\n",
       "    }\n",
       "\n",
       "    .dataframe tbody tr th {\n",
       "        vertical-align: top;\n",
       "    }\n",
       "\n",
       "    .dataframe thead th {\n",
       "        text-align: right;\n",
       "    }\n",
       "</style>\n",
       "<table border=\"1\" class=\"dataframe\">\n",
       "  <thead>\n",
       "    <tr style=\"text-align: right;\">\n",
       "      <th></th>\n",
       "      <th>id</th>\n",
       "      <th>math</th>\n",
       "      <th>eng</th>\n",
       "    </tr>\n",
       "    <tr>\n",
       "      <th>section</th>\n",
       "      <th></th>\n",
       "      <th></th>\n",
       "      <th></th>\n",
       "    </tr>\n",
       "  </thead>\n",
       "  <tbody>\n",
       "    <tr>\n",
       "      <th>one</th>\n",
       "      <td>3</td>\n",
       "      <td>80</td>\n",
       "      <td>87</td>\n",
       "    </tr>\n",
       "    <tr>\n",
       "      <th>two</th>\n",
       "      <td>12</td>\n",
       "      <td>100</td>\n",
       "      <td>116</td>\n",
       "    </tr>\n",
       "  </tbody>\n",
       "</table>\n",
       "</div>"
      ],
      "text/plain": [
       "         id  math  eng\n",
       "section               \n",
       "one       3    80   87\n",
       "two      12   100  116"
      ]
     },
     "execution_count": 28,
     "metadata": {},
     "output_type": "execute_result"
    }
   ],
   "source": [
    "score_sec = merged_table.groupby('section')\n",
    "score_sec.sum()"
   ]
  },
  {
   "cell_type": "markdown",
   "id": "f889c0ca",
   "metadata": {},
   "source": [
    "# Milestone 3"
   ]
  },
  {
   "cell_type": "code",
   "execution_count": null,
   "id": "bfe8fd8e",
   "metadata": {},
   "outputs": [],
   "source": []
  }
 ],
 "metadata": {
  "kernelspec": {
   "display_name": "Python 3",
   "language": "python",
   "name": "python3"
  },
  "language_info": {
   "codemirror_mode": {
    "name": "ipython",
    "version": 3
   },
   "file_extension": ".py",
   "mimetype": "text/x-python",
   "name": "python",
   "nbconvert_exporter": "python",
   "pygments_lexer": "ipython3",
   "version": "3.8.8"
  }
 },
 "nbformat": 4,
 "nbformat_minor": 5
}
