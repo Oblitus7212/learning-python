{
 "cells": [
  {
   "cell_type": "code",
   "execution_count": 1,
   "id": "3d0ce4a1",
   "metadata": {},
   "outputs": [
    {
     "data": {
      "text/plain": [
       "array([2, 3, 5, 7, 0])"
      ]
     },
     "execution_count": 1,
     "metadata": {},
     "output_type": "execute_result"
    }
   ],
   "source": [
    "import numpy as np\n",
    "ar1 = np.array([2,3,5,7,0])    # np.array instead of python list\n",
    "ar1"
   ]
  },
  {
   "cell_type": "code",
   "execution_count": 2,
   "id": "0820e0bf",
   "metadata": {},
   "outputs": [
    {
     "data": {
      "text/plain": [
       "array([2, 3, 5, 7, 0])"
      ]
     },
     "execution_count": 2,
     "metadata": {},
     "output_type": "execute_result"
    }
   ],
   "source": [
    "ar1.T  # column vector is transponse of row vector"
   ]
  },
  {
   "cell_type": "code",
   "execution_count": 3,
   "id": "689459bc",
   "metadata": {},
   "outputs": [
    {
     "name": "stdout",
     "output_type": "stream",
     "text": [
      "[0.  0.2 0.4 0.6 0.8 1.  1.2 1.4 1.6 1.8 2.  2.2 2.4 2.6 2.8 3.  3.2 3.4\n",
      " 3.6 3.8]\n"
     ]
    }
   ],
   "source": [
    "ar2 = np.arange(0,4,0.2) # equally spaced sequence from 0 (included) to 4 (excluded) with 0.2 as step size\n",
    "print (ar2)"
   ]
  },
  {
   "cell_type": "code",
   "execution_count": 4,
   "id": "709b1064",
   "metadata": {},
   "outputs": [
    {
     "name": "stdout",
     "output_type": "stream",
     "text": [
      "[0. 0. 0. 0. 0. 0.]\n"
     ]
    }
   ],
   "source": [
    "ar3 = np.zeros(6)\n",
    "print (ar3)"
   ]
  },
  {
   "cell_type": "code",
   "execution_count": 5,
   "id": "63ddfa28",
   "metadata": {},
   "outputs": [
    {
     "name": "stdout",
     "output_type": "stream",
     "text": [
      "[1. 1. 1. 1. 1. 1. 1. 1. 1. 1.]\n"
     ]
    }
   ],
   "source": [
    "ar4 = np.ones(10)\n",
    "print (ar4)"
   ]
  },
  {
   "cell_type": "code",
   "execution_count": 6,
   "id": "dfe572f3",
   "metadata": {},
   "outputs": [
    {
     "name": "stdout",
     "output_type": "stream",
     "text": [
      "[0.10254227 0.74297006 0.00542868 0.11137635 0.53299041 0.12698507]\n"
     ]
    }
   ],
   "source": [
    "ar5 = np.random.random(6)\n",
    "print (ar5)"
   ]
  },
  {
   "cell_type": "code",
   "execution_count": 7,
   "id": "bc9f49ad",
   "metadata": {},
   "outputs": [
    {
     "data": {
      "text/plain": [
       "6"
      ]
     },
     "execution_count": 7,
     "metadata": {},
     "output_type": "execute_result"
    }
   ],
   "source": [
    "ar5.size"
   ]
  },
  {
   "cell_type": "code",
   "execution_count": 8,
   "id": "954dc0bb",
   "metadata": {},
   "outputs": [
    {
     "data": {
      "text/plain": [
       "dtype('float64')"
      ]
     },
     "execution_count": 8,
     "metadata": {},
     "output_type": "execute_result"
    }
   ],
   "source": [
    "ar5.dtype"
   ]
  },
  {
   "cell_type": "code",
   "execution_count": 9,
   "id": "cd74c19a",
   "metadata": {},
   "outputs": [
    {
     "name": "stdout",
     "output_type": "stream",
     "text": [
      "[ 0  1  2  3  4  5  6  7  8  9 10]\n"
     ]
    }
   ],
   "source": [
    "import numpy as np\n",
    "n = np.arange(11)\n",
    "print(n)"
   ]
  },
  {
   "cell_type": "code",
   "execution_count": 10,
   "id": "aafa1e32",
   "metadata": {},
   "outputs": [
    {
     "name": "stdout",
     "output_type": "stream",
     "text": [
      "[  -4    1   18   59  136  261  446  703 1044 1481 2026]\n"
     ]
    }
   ],
   "source": [
    "fn = 2*n**3 + 3*n - 4\n",
    "print (fn)"
   ]
  },
  {
   "cell_type": "code",
   "execution_count": 11,
   "id": "a4274e6a",
   "metadata": {},
   "outputs": [],
   "source": [
    "f = 1 #Hz\n",
    "t = np.arange(0,1,0.1)\n",
    "y = 5*np.sin(2*np.pi*f*t)"
   ]
  },
  {
   "cell_type": "code",
   "execution_count": 12,
   "id": "1d628034",
   "metadata": {},
   "outputs": [
    {
     "data": {
      "text/plain": [
       "array([0. , 0.1, 0.2, 0.3, 0.4, 0.5, 0.6, 0.7, 0.8, 0.9])"
      ]
     },
     "execution_count": 12,
     "metadata": {},
     "output_type": "execute_result"
    }
   ],
   "source": [
    "t # domain, input"
   ]
  },
  {
   "cell_type": "code",
   "execution_count": 13,
   "id": "6a44e8e7",
   "metadata": {},
   "outputs": [
    {
     "data": {
      "text/plain": [
       "array([ 0.00000000e+00,  2.93892626e+00,  4.75528258e+00,  4.75528258e+00,\n",
       "        2.93892626e+00,  6.12323400e-16, -2.93892626e+00, -4.75528258e+00,\n",
       "       -4.75528258e+00, -2.93892626e+00])"
      ]
     },
     "execution_count": 13,
     "metadata": {},
     "output_type": "execute_result"
    }
   ],
   "source": [
    "y # ouput of system "
   ]
  },
  {
   "cell_type": "code",
   "execution_count": 14,
   "id": "f99ede61",
   "metadata": {},
   "outputs": [
    {
     "data": {
      "image/png": "[encoded data removed]",
      "text/plain": [
       "<Figure size 432x288 with 1 Axes>"
      ]
     },
     "metadata": {
      "needs_background": "light"
     },
     "output_type": "display_data"
    }
   ],
   "source": [
    "import matplotlib.pyplot as plt\n",
    "%matplotlib inline\n",
    "plt.plot(t,y)\n",
    "plt.grid()\n",
    "plt.xlabel('Time (s)')\n",
    "plt.ylabel('Simple sine (1 Hz)')\n",
    "plt.ylim(-6,6)\n",
    "plt.show()"
   ]
  },
  {
   "cell_type": "code",
   "execution_count": 15,
   "id": "31d202a6",
   "metadata": {},
   "outputs": [
    {
     "data": {
      "text/plain": [
       "-2.6645352591003756e-16"
      ]
     },
     "execution_count": 15,
     "metadata": {},
     "output_type": "execute_result"
    }
   ],
   "source": [
    "np.mean(y) # should be close to 0. =>  10^(-17)"
   ]
  },
  {
   "cell_type": "code",
   "execution_count": 16,
   "id": "367e75d0",
   "metadata": {},
   "outputs": [
    {
     "data": {
      "text/plain": [
       "9.510565162951536"
      ]
     },
     "execution_count": 16,
     "metadata": {},
     "output_type": "execute_result"
    }
   ],
   "source": [
    "np.max(y) - np.min(y) # amplitude peak-peak"
   ]
  },
  {
   "cell_type": "code",
   "execution_count": 17,
   "id": "085cc802",
   "metadata": {},
   "outputs": [
    {
     "data": {
      "text/plain": [
       "3.5355339059327378"
      ]
     },
     "execution_count": 17,
     "metadata": {},
     "output_type": "execute_result"
    }
   ],
   "source": [
    "np.std(y) # rms value : Root of Meand of Square of the signal= approximation DC current to AC signal."
   ]
  },
  {
   "cell_type": "code",
   "execution_count": 18,
   "id": "4a6b0f47",
   "metadata": {},
   "outputs": [],
   "source": [
    "f1 = 1 #Hz\n",
    "f2 = 2 #Hz\n",
    "t = np.arange(0,1,0.01)\n",
    "\n",
    "y1 = 5*np.sin(2*np.pi*f1*t)\n",
    "y2 = 2*np.sin(2*np.pi*f2*t)"
   ]
  },
  {
   "cell_type": "code",
   "execution_count": 19,
   "id": "59319a0e",
   "metadata": {},
   "outputs": [
    {
     "data": {
      "image/png": "[encoded data removed]",
      "text/plain": [
       "<Figure size 432x288 with 1 Axes>"
      ]
     },
     "metadata": {
      "needs_background": "light"
     },
     "output_type": "display_data"
    }
   ],
   "source": [
    "import matplotlib.pyplot as plt\n",
    "%matplotlib inline\n",
    "plt.plot(t,y1,'r--', t, y2,'bs')\n",
    "plt.grid()\n",
    "plt.xlabel('Time (s)')\n",
    "plt.ylabel('Simple sine (1 Hz)')\n",
    "plt.ylim(-5,5)\n",
    "plt.show()"
   ]
  },
  {
   "cell_type": "code",
   "execution_count": 20,
   "id": "480bafea",
   "metadata": {},
   "outputs": [],
   "source": [
    "import math\n",
    "f = 6 #Hz\n",
    "t = np.arange(0,3,0.01)\n",
    "amp = 110 * math.sqrt(2)\n",
    "\n",
    "y = amp*np.sin(2*np.pi*f*t)"
   ]
  },
  {
   "cell_type": "code",
   "execution_count": 21,
   "id": "70f615df",
   "metadata": {},
   "outputs": [
    {
     "data": {
      "image/png": "[encoded data removed]",
      "text/plain": [
       "<Figure size 432x288 with 1 Axes>"
      ]
     },
     "metadata": {
      "needs_background": "light"
     },
     "output_type": "display_data"
    },
    {
     "data": {
      "text/plain": [
       "(109.99999999999999, -3.4106051316484808e-15)"
      ]
     },
     "execution_count": 21,
     "metadata": {},
     "output_type": "execute_result"
    }
   ],
   "source": [
    "import matplotlib.pyplot as plt\n",
    "%matplotlib inline\n",
    "plt.plot(t,y)\n",
    "plt.grid()\n",
    "plt.xlabel('Time (s)')\n",
    "plt.ylabel('Simple sine (1 Hz)')\n",
    "plt.ylim(-6,6)\n",
    "plt.show()\n",
    "np.std(y), np.mean(y)"
   ]
  },
  {
   "cell_type": "code",
   "execution_count": 22,
   "id": "21ac879c",
   "metadata": {},
   "outputs": [
    {
     "data": {
      "text/plain": [
       "array([[3, 4, 1],\n",
       "       [3, 6, 1]])"
      ]
     },
     "execution_count": 22,
     "metadata": {},
     "output_type": "execute_result"
    }
   ],
   "source": [
    "mat1 = np.array([[3,4,1],[3,6,1]])\n",
    "mat1"
   ]
  },
  {
   "cell_type": "code",
   "execution_count": 23,
   "id": "6a96a3c9",
   "metadata": {},
   "outputs": [
    {
     "data": {
      "text/plain": [
       "(2, 3)"
      ]
     },
     "execution_count": 23,
     "metadata": {},
     "output_type": "execute_result"
    }
   ],
   "source": [
    "mat1.shape # 1st dimension is number of rows, 2nd dimension is number of cols"
   ]
  },
  {
   "cell_type": "code",
   "execution_count": 24,
   "id": "235206df",
   "metadata": {},
   "outputs": [
    {
     "data": {
      "text/plain": [
       "2"
      ]
     },
     "execution_count": 24,
     "metadata": {},
     "output_type": "execute_result"
    }
   ],
   "source": [
    "mat1.ndim "
   ]
  },
  {
   "cell_type": "code",
   "execution_count": 25,
   "id": "1066609d",
   "metadata": {},
   "outputs": [
    {
     "data": {
      "text/plain": [
       "array([[1., 1., 1.],\n",
       "       [1., 1., 1.],\n",
       "       [1., 1., 1.],\n",
       "       [1., 1., 1.]])"
      ]
     },
     "execution_count": 25,
     "metadata": {},
     "output_type": "execute_result"
    }
   ],
   "source": [
    "mat2 = np.ones((4,3))\n",
    "mat2"
   ]
  },
  {
   "cell_type": "code",
   "execution_count": 26,
   "id": "9ade4075",
   "metadata": {},
   "outputs": [
    {
     "name": "stdout",
     "output_type": "stream",
     "text": [
      "[[0.16654343 0.05396087 0.29023823]\n",
      " [0.25369186 0.6166252  0.89262259]\n",
      " [0.86106038 0.85297818 0.16794805]\n",
      " [0.02211643 0.31060965 0.20734184]]\n"
     ]
    }
   ],
   "source": [
    "mat3 = np.random.random(mat2.shape)\n",
    "print (mat3)"
   ]
  },
  {
   "cell_type": "code",
   "execution_count": 27,
   "id": "638c8ef1",
   "metadata": {},
   "outputs": [
    {
     "data": {
      "text/plain": [
       "array([[0, 1, 2, 3, 4],\n",
       "       [5, 6, 7, 8, 9]])"
      ]
     },
     "execution_count": 27,
     "metadata": {},
     "output_type": "execute_result"
    }
   ],
   "source": [
    "mat4 = np.arange(10).reshape((2,5))\n",
    "mat4"
   ]
  },
  {
   "cell_type": "code",
   "execution_count": 28,
   "id": "67d255ad",
   "metadata": {},
   "outputs": [
    {
     "data": {
      "text/plain": [
       "array([[1, 2],\n",
       "       [4, 5]])"
      ]
     },
     "execution_count": 28,
     "metadata": {},
     "output_type": "execute_result"
    }
   ],
   "source": [
    "s=2 # scalar value\n",
    "A=np.array([[1, 2], [4,5]])\n",
    "A"
   ]
  },
  {
   "cell_type": "code",
   "execution_count": 29,
   "id": "40dfe117",
   "metadata": {},
   "outputs": [
    {
     "data": {
      "text/plain": [
       "array([[ 2,  4],\n",
       "       [ 8, 10]])"
      ]
     },
     "execution_count": 29,
     "metadata": {},
     "output_type": "execute_result"
    }
   ],
   "source": [
    "s * A"
   ]
  },
  {
   "cell_type": "code",
   "execution_count": 30,
   "id": "88513859",
   "metadata": {},
   "outputs": [
    {
     "data": {
      "text/plain": [
       "array([[1, 0],\n",
       "       [0, 1]])"
      ]
     },
     "execution_count": 30,
     "metadata": {},
     "output_type": "execute_result"
    }
   ],
   "source": [
    "I = np.array([[1, 0], [0, 1]])\n",
    "I"
   ]
  },
  {
   "cell_type": "code",
   "execution_count": 31,
   "id": "03952864",
   "metadata": {},
   "outputs": [
    {
     "data": {
      "text/plain": [
       "array([[1, 2],\n",
       "       [4, 5]])"
      ]
     },
     "execution_count": 31,
     "metadata": {},
     "output_type": "execute_result"
    }
   ],
   "source": [
    "A=np.array([[1, 2], [4,5]])\n",
    "A"
   ]
  },
  {
   "cell_type": "code",
   "execution_count": 32,
   "id": "e3c9f923",
   "metadata": {},
   "outputs": [
    {
     "data": {
      "text/plain": [
       "array([[0, 2],\n",
       "       [4, 4]])"
      ]
     },
     "execution_count": 32,
     "metadata": {},
     "output_type": "execute_result"
    }
   ],
   "source": [
    "A - I"
   ]
  },
  {
   "cell_type": "code",
   "execution_count": 33,
   "id": "63a16fb2",
   "metadata": {},
   "outputs": [
    {
     "data": {
      "text/plain": [
       "array([[1],\n",
       "       [2]])"
      ]
     },
     "execution_count": 33,
     "metadata": {},
     "output_type": "execute_result"
    }
   ],
   "source": [
    "v = np.array([[1],[2]])\n",
    "v"
   ]
  },
  {
   "cell_type": "code",
   "execution_count": 34,
   "id": "0912e54b",
   "metadata": {},
   "outputs": [],
   "source": [
    "A=np.array([[1, 2], [4,5]])"
   ]
  },
  {
   "cell_type": "code",
   "execution_count": 35,
   "id": "5ee06e7a",
   "metadata": {},
   "outputs": [
    {
     "data": {
      "text/plain": [
       "array([[ 5],\n",
       "       [14]])"
      ]
     },
     "execution_count": 35,
     "metadata": {},
     "output_type": "execute_result"
    }
   ],
   "source": [
    "A @ v"
   ]
  },
  {
   "cell_type": "code",
   "execution_count": 36,
   "id": "f83806a4",
   "metadata": {},
   "outputs": [
    {
     "data": {
      "text/plain": [
       "0.2"
      ]
     },
     "execution_count": 36,
     "metadata": {},
     "output_type": "execute_result"
    }
   ],
   "source": [
    "a = 5\n",
    "a**-1 "
   ]
  },
  {
   "cell_type": "code",
   "execution_count": 37,
   "id": "8884e98f",
   "metadata": {},
   "outputs": [
    {
     "data": {
      "text/plain": [
       "1.0"
      ]
     },
     "execution_count": 37,
     "metadata": {},
     "output_type": "execute_result"
    }
   ],
   "source": [
    "a*a**-1"
   ]
  },
  {
   "cell_type": "code",
   "execution_count": 38,
   "id": "7615e849",
   "metadata": {},
   "outputs": [],
   "source": [
    "A=np.array([[2, 3], [5,1]])\n",
    "A_inv = np.linalg.inv(A)"
   ]
  },
  {
   "cell_type": "code",
   "execution_count": 39,
   "id": "e3467f62",
   "metadata": {},
   "outputs": [
    {
     "data": {
      "text/plain": [
       "array([[2, 3],\n",
       "       [5, 1]])"
      ]
     },
     "execution_count": 39,
     "metadata": {},
     "output_type": "execute_result"
    }
   ],
   "source": [
    "A"
   ]
  },
  {
   "cell_type": "code",
   "execution_count": 40,
   "id": "480f778d",
   "metadata": {},
   "outputs": [
    {
     "data": {
      "text/plain": [
       "array([[-0.07692308,  0.23076923],\n",
       "       [ 0.38461538, -0.15384615]])"
      ]
     },
     "execution_count": 40,
     "metadata": {},
     "output_type": "execute_result"
    }
   ],
   "source": [
    "A_inv"
   ]
  },
  {
   "cell_type": "code",
   "execution_count": 41,
   "id": "e5a00d3f",
   "metadata": {},
   "outputs": [
    {
     "name": "stdout",
     "output_type": "stream",
     "text": [
      "[[ 1.00000000e+00 -5.55111512e-17]\n",
      " [ 0.00000000e+00  1.00000000e+00]]\n"
     ]
    }
   ],
   "source": [
    "y= A @ A_inv\n",
    "print(y)"
   ]
  },
  {
   "cell_type": "code",
   "execution_count": 42,
   "id": "6f3be198",
   "metadata": {},
   "outputs": [
    {
     "data": {
      "text/plain": [
       "array([[1, 2],\n",
       "       [3, 4]])"
      ]
     },
     "execution_count": 42,
     "metadata": {},
     "output_type": "execute_result"
    }
   ],
   "source": [
    "A=np.array([[1, 2], [3,4]])\n",
    "A"
   ]
  },
  {
   "cell_type": "code",
   "execution_count": 43,
   "id": "1e5d3a10",
   "metadata": {},
   "outputs": [
    {
     "data": {
      "text/plain": [
       "array([[-2. ,  1. ],\n",
       "       [ 1.5, -0.5]])"
      ]
     },
     "execution_count": 43,
     "metadata": {},
     "output_type": "execute_result"
    }
   ],
   "source": [
    "A_inv = np.linalg.inv(A)\n",
    "A_inv"
   ]
  },
  {
   "cell_type": "code",
   "execution_count": 44,
   "id": "00b28efe",
   "metadata": {},
   "outputs": [
    {
     "data": {
      "text/plain": [
       "array([[False, False],\n",
       "       [ True, False]])"
      ]
     },
     "execution_count": 44,
     "metadata": {},
     "output_type": "execute_result"
    }
   ],
   "source": [
    "A @ A_inv == I"
   ]
  },
  {
   "cell_type": "code",
   "execution_count": 45,
   "id": "5e4f0e9f",
   "metadata": {},
   "outputs": [
    {
     "data": {
      "text/plain": [
       "array([[-0.15384615],\n",
       "       [ 2.76923077]])"
      ]
     },
     "execution_count": 45,
     "metadata": {},
     "output_type": "execute_result"
    }
   ],
   "source": [
    "import numpy as np\n",
    "A = np.array([[2,3],  \n",
    "            [5, 1]])\n",
    "b = np.array([[8,2]]).T  # create column vector from row vector(list,array)\n",
    "A_inv = np.linalg.inv(A)    # let compute inverse matrix for A\n",
    "x = A_inv @ b    # Multiple Matrix in numpy\n",
    "x"
   ]
  },
  {
   "cell_type": "code",
   "execution_count": 46,
   "id": "a20f7da0",
   "metadata": {},
   "outputs": [
    {
     "data": {
      "text/plain": [
       "array([[-8.8817842e-16],\n",
       "       [ 0.0000000e+00]])"
      ]
     },
     "execution_count": 46,
     "metadata": {},
     "output_type": "execute_result"
    }
   ],
   "source": [
    "A.dot(x)- b   # Verify answer"
   ]
  },
  {
   "cell_type": "code",
   "execution_count": 47,
   "id": "7509fb02",
   "metadata": {},
   "outputs": [
    {
     "name": "stdout",
     "output_type": "stream",
     "text": [
      "Hot dogs is  [65.] Sodas is  [45.]\n"
     ]
    }
   ],
   "source": [
    "import numpy as np\n",
    "A = np.array([[19,35],[1, 1]])\n",
    "b = np.array([[2810,110]]).T\n",
    "A_inv = np.linalg.inv(A)\n",
    "x = A_inv.dot(b)\n",
    "print('Hot dogs is ' , x[0] , 'Sodas is ',x[1])"
   ]
  },
  {
   "cell_type": "code",
   "execution_count": 48,
   "id": "9b1e802d",
   "metadata": {},
   "outputs": [
    {
     "data": {
      "text/plain": [
       "array([[0.],\n",
       "       [0.]])"
      ]
     },
     "execution_count": 48,
     "metadata": {},
     "output_type": "execute_result"
    }
   ],
   "source": [
    "A.dot(x) - b"
   ]
  },
  {
   "cell_type": "code",
   "execution_count": 49,
   "id": "fe519dc5",
   "metadata": {},
   "outputs": [],
   "source": [
    "import numpy as np\n",
    "A = np.array([[2,3],  \n",
    "            [5, 1]])\n",
    "b = np.array([[8,2]]).T\n",
    "A_inv = np.linalg.inv(A) \n",
    "x = A_inv @ b"
   ]
  },
  {
   "cell_type": "code",
   "execution_count": 50,
   "id": "960ef8f9",
   "metadata": {},
   "outputs": [
    {
     "name": "stdout",
     "output_type": "stream",
     "text": [
      "x is  [[-0.15384615  2.76923077]]  and b is  [[8 2]]\n"
     ]
    },
    {
     "data": {
      "image/png": "[encoded data removed]",
      "text/plain": [
       "<Figure size 432x288 with 1 Axes>"
      ]
     },
     "metadata": {
      "needs_background": "light"
     },
     "output_type": "display_data"
    }
   ],
   "source": [
    "import matplotlib.pyplot as plt\n",
    "\n",
    "x_position = [0, 0]   # vector x and b start at origin\n",
    "y_position = [0, 0]    \n",
    "\n",
    "x_direction =[x[0], b[0]] # List of Endpoint of Arrow for x \n",
    "y_direction = [x[1], b[1]]\n",
    "\n",
    "plt.quiver(x_position, y_position, x_direction, y_direction, angles='xy',scale_units='xy', scale=1,color=['b','g'])\n",
    "plt.xlim(-8,8)\n",
    "plt.ylim(-2,4)\n",
    "\n",
    "plt.grid()   #<-- plot grid lines\n",
    "\n",
    "# vector x is blue,and vector b is green\n",
    "print('x is ',x.T,  ' and b is ',b.T )  # for check member of vectors, easy to read"
   ]
  },
  {
   "cell_type": "code",
   "execution_count": 51,
   "id": "475af45c",
   "metadata": {},
   "outputs": [
    {
     "data": {
      "text/plain": [
       "array([[ True],\n",
       "       [ True]])"
      ]
     },
     "execution_count": 51,
     "metadata": {},
     "output_type": "execute_result"
    }
   ],
   "source": [
    "A_inv.dot(b) == x"
   ]
  },
  {
   "cell_type": "code",
   "execution_count": 52,
   "id": "d6f0747c",
   "metadata": {},
   "outputs": [],
   "source": [
    "import numpy as np\n",
    "import matplotlib.pyplot as plt\n",
    "\n",
    "A = np.array([[6,5],  \n",
    "            [1, 2]])"
   ]
  },
  {
   "cell_type": "code",
   "execution_count": 53,
   "id": "4965c76f",
   "metadata": {},
   "outputs": [
    {
     "name": "stdout",
     "output_type": "stream",
     "text": [
      "A*u1= \n",
      " [[6]\n",
      " [1]]\n"
     ]
    }
   ],
   "source": [
    "u1 = np.array([[1,0]]).T;               print('A*u1= \\n', A.dot(u1))"
   ]
  },
  {
   "cell_type": "code",
   "execution_count": 54,
   "id": "d57a1cca",
   "metadata": {},
   "outputs": [
    {
     "name": "stdout",
     "output_type": "stream",
     "text": [
      "A*u2= \n",
      " [[5]\n",
      " [2]]\n"
     ]
    }
   ],
   "source": [
    "u2 = np.array([[0, 1]]).T;               print('A*u2= \\n', A.dot(u2))"
   ]
  },
  {
   "cell_type": "code",
   "execution_count": 55,
   "id": "ab8439b5",
   "metadata": {},
   "outputs": [
    {
     "name": "stdout",
     "output_type": "stream",
     "text": [
      "u1 =  [[1]\n",
      " [0]]\n",
      "A *u =  [[6]\n",
      " [1]]\n"
     ]
    },
    {
     "data": {
      "image/png": "[encoded data removed]",
      "text/plain": [
       "<Figure size 432x288 with 1 Axes>"
      ]
     },
     "metadata": {
      "needs_background": "light"
     },
     "output_type": "display_data"
    }
   ],
   "source": [
    "x_position = [0, 0]   # vector x and b start at origin\n",
    "y_position = [0, 0]    \n",
    "\n",
    "Au1 = A @ u1\n",
    "\n",
    "x_direction = [u1[0], Au1[0]] # List of Endpoint of Arrow for x \n",
    "y_direction = [u1[1], Au1[1]]\n",
    "\n",
    "plt.quiver(x_position, y_position, x_direction, y_direction, angles='xy',scale_units='xy', scale=1,color=['g','r'])\n",
    "plt.xlim(-1,7)\n",
    "plt.ylim(-1,4)\n",
    "plt.grid(b=True, which='major') #<-- plot grid lines\n",
    "print('u1 = ', u1); print('A *u = ', Au1)"
   ]
  },
  {
   "cell_type": "code",
   "execution_count": 56,
   "id": "9ee8b107",
   "metadata": {},
   "outputs": [
    {
     "name": "stdout",
     "output_type": "stream",
     "text": [
      "u2 =  [[0]\n",
      " [1]]\n",
      "A *u =  [[5]\n",
      " [2]]\n"
     ]
    },
    {
     "data": {
      "image/png": "[encoded data removed]",
      "text/plain": [
       "<Figure size 432x288 with 1 Axes>"
      ]
     },
     "metadata": {
      "needs_background": "light"
     },
     "output_type": "display_data"
    }
   ],
   "source": [
    "x_position = [0, 0]   # vector x and b start at origin\n",
    "y_position = [0, 0]    \n",
    "\n",
    "Au2 = A @ u2\n",
    "\n",
    "x_direction = [u2[0], Au2[0]] # List of Endpoint of Arrow for x \n",
    "y_direction = [u2[1], Au2[1]]\n",
    "\n",
    "plt.quiver(x_position, y_position, x_direction, y_direction, angles='xy',scale_units='xy', scale=1,color=['g','r'])\n",
    "plt.xlim(-1,7)\n",
    "plt.ylim(-1,4)\n",
    "plt.grid(b=True, which='major') #<-- plot grid lines\n",
    "print('u2 = ', u2); print('A *u = ', Au2)"
   ]
  },
  {
   "cell_type": "code",
   "execution_count": 57,
   "id": "7faa9232",
   "metadata": {},
   "outputs": [
    {
     "name": "stdout",
     "output_type": "stream",
     "text": [
      "u =  [0.98058068 0.19611614]\n",
      "lamda *u =  [6.86406473 1.37281295]\n"
     ]
    },
    {
     "data": {
      "image/png": "[encoded data removed]",
      "text/plain": [
       "<Figure size 432x288 with 1 Axes>"
      ]
     },
     "metadata": {
      "needs_background": "light"
     },
     "output_type": "display_data"
    }
   ],
   "source": [
    "import numpy as np\n",
    "import matplotlib.pyplot as plt\n",
    "\n",
    "A = np.array([[6,5],  \n",
    "            [1, 2]])\n",
    "\n",
    "eigvals, eigvecs = np.linalg.eig(A)\n",
    "u = eigvecs[:,0]\n",
    "lamda = eigvals[0]\n",
    "\n",
    "Au = A @ u\n",
    "lamda_u = lamda * u\n",
    "x_position = [0, 0]   # vector x and b start at origin\n",
    "y_position = [0, 0]    \n",
    "\n",
    "x_direction =[u[0], lamda_u[0]] # List of Endpoint of Arrow for x \n",
    "y_direction = [u[1], lamda_u[1]]\n",
    "\n",
    "plt.quiver(x_position, y_position, x_direction, y_direction, angles='xy',scale_units='xy', scale=1,color=['r','b'])\n",
    "plt.xlim(-1,7)\n",
    "plt.ylim(-1,4)\n",
    "plt.grid(b=True, which='major') #<-- plot grid lines\n",
    "print('u = ', u); print('lamda *u = ', lamda_u)"
   ]
  },
  {
   "cell_type": "code",
   "execution_count": 58,
   "id": "343304c0",
   "metadata": {},
   "outputs": [
    {
     "name": "stdout",
     "output_type": "stream",
     "text": [
      "u =  [-0.9486833   0.31622777]\n",
      "lamda *u =  [ 6.64078309 -2.21359436]\n"
     ]
    },
    {
     "data": {
      "image/png": "[encoded data removed]",
      "text/plain": [
       "<Figure size 432x288 with 1 Axes>"
      ]
     },
     "metadata": {
      "needs_background": "light"
     },
     "output_type": "display_data"
    }
   ],
   "source": [
    "import numpy as np\n",
    "import matplotlib.pyplot as plt\n",
    "\n",
    "A = np.array([[-6,3],[4, 5]])\n",
    "\n",
    "eigvals, eigvecs = np.linalg.eig(A)\n",
    "u = eigvecs[:,0]\n",
    "lamda = eigvals[0]\n",
    "\n",
    "Au = A * u\n",
    "lamda_u = lamda * u\n",
    "x_position = [0, 0]   # vector x and b start at origin\n",
    "y_position = [0, 0]    \n",
    "\n",
    "x_direction =[u[0], lamda_u[0]] # List of Endpoint of Arrow for x \n",
    "y_direction = [u[1], lamda_u[1]]\n",
    "\n",
    "plt.quiver(x_position, y_position, x_direction, y_direction, angles='xy',scale_units='xy', scale=1,color=['r','b'])\n",
    "plt.xlim(-10,10)\n",
    "plt.ylim(-10,10)\n",
    "plt.grid(b=True, which='major') #<-- plot grid lines\n",
    "print('u = ', u); print('lamda *u = ', lamda_u)"
   ]
  },
  {
   "cell_type": "code",
   "execution_count": null,
   "id": "54b4b115",
   "metadata": {},
   "outputs": [],
   "source": []
  }
 ],
 "metadata": {
  "kernelspec": {
   "display_name": "Python 3",
   "language": "python",
   "name": "python3"
  },
  "language_info": {
   "codemirror_mode": {
    "name": "ipython",
    "version": 3
   },
   "file_extension": ".py",
   "mimetype": "text/x-python",
   "name": "python",
   "nbconvert_exporter": "python",
   "pygments_lexer": "ipython3",
   "version": "3.8.8"
  }
 },
 "nbformat": 4,
 "nbformat_minor": 5
}
