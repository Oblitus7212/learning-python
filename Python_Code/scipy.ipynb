{
 "cells": [
  {
   "cell_type": "code",
   "execution_count": 1,
   "id": "0fec4f4b",
   "metadata": {},
   "outputs": [
    {
     "data": {
      "text/plain": [
       "array([0, 0, 1, 1, 1, 1, 1, 1, 1, 1, 0, 0, 0, 1, 1, 1, 1, 1, 1, 1])"
      ]
     },
     "execution_count": 1,
     "metadata": {},
     "output_type": "execute_result"
    }
   ],
   "source": [
    "import scipy\n",
    "from scipy . cluster .vq import kmeans ,vq , whiten\n",
    "# Score of 20 students in on subjects\n",
    "student_scores = [[80] , [78] , [55] , [60] , [62] ,\n",
    "[59] , [48] , [49] , [51] , [54] ,\n",
    "[72] , [95] , [78] , [54] , [50] ,\n",
    "[61] , [57] , [56] , [65] , [53]];\n",
    "student_scores = whiten (student_scores)\n",
    "centroids ,_ = kmeans (student_scores ,2)\n",
    "result ,_ = vq(student_scores , centroids )\n",
    "result"
   ]
  },
  {
   "cell_type": "code",
   "execution_count": 2,
   "id": "8c3b188f",
   "metadata": {},
   "outputs": [
    {
     "data": {
      "text/plain": [
       "array([3, 3, 0, 2, 2, 2, 0, 0, 0, 0, 3, 1, 3, 0, 0, 2, 2, 0, 2, 0])"
      ]
     },
     "execution_count": 2,
     "metadata": {},
     "output_type": "execute_result"
    }
   ],
   "source": [
    "import scipy\n",
    "from scipy . cluster .vq import kmeans ,vq , whiten\n",
    "# Score of 20 students in on subjects\n",
    "student_scores = [[80] , [78] , [55] , [60] , [62] ,\n",
    "[59] , [48] , [49] , [51] , [54] ,\n",
    "[72] , [95] , [78] , [54] , [50] ,\n",
    "[61] , [57] , [56] , [65] , [53]];\n",
    "student_scores = whiten (student_scores)\n",
    "centroids ,_ = kmeans (student_scores ,4)\n",
    "result ,_ = vq(student_scores , centroids)\n",
    "result"
   ]
  },
  {
   "cell_type": "code",
   "execution_count": 3,
   "id": "2bbdb568",
   "metadata": {},
   "outputs": [
    {
     "data": {
      "text/plain": [
       "array([3, 3, 0, 0, 2, 0, 1, 2, 2, 0, 3, 3, 3, 1, 2, 0, 0, 2, 0, 1])"
      ]
     },
     "execution_count": 3,
     "metadata": {},
     "output_type": "execute_result"
    }
   ],
   "source": [
    "import scipy\n",
    "from scipy . cluster .vq import kmeans ,vq , whiten\n",
    "# Score of 20 students in on subjects\n",
    "student_scores =[[80 , 72] , [78 , 56] , [55 , 64] , [60 , 61] , [62 , 45] ,\n",
    "[59 , 71] , [48 , 85] , [49 , 45] , [51 , 55] , [54 , 62] ,\n",
    "[72 , 81] , [95 , 81] , [78 , 92] , [54 , 80] , [50 , 50] ,\n",
    "[61 , 65] , [57 , 62] , [56 , 55] , [65 , 63] , [53 , 72]];\n",
    "student_scores = whiten (student_scores)\n",
    "centroids ,_ = kmeans (student_scores ,4)\n",
    "result ,_ = vq(student_scores , centroids)\n",
    "result"
   ]
  },
  {
   "cell_type": "code",
   "execution_count": 4,
   "id": "24efa933",
   "metadata": {},
   "outputs": [
    {
     "name": "stdout",
     "output_type": "stream",
     "text": [
      "The PI is 3.1415926535897931\n",
      "The speed of light is c = 299792458.0\n",
      "The newton ’s gravity constant is G = 9.8\n"
     ]
    }
   ],
   "source": [
    "import scipy.constants\n",
    "print(\"The PI is %.16f\"% scipy.constants.pi)\n",
    "print(\"The speed of light is c = %.1F\"%scipy.constants.c)\n",
    "print(\"The newton ’s gravity constant is G = %.1F\"%scipy.constants.g)"
   ]
  },
  {
   "cell_type": "code",
   "execution_count": 5,
   "id": "e82e234a",
   "metadata": {},
   "outputs": [
    {
     "data": {
      "text/plain": [
       "['atomic mass unit-kilogram relationship',\n",
       " 'electron volt-kilogram relationship',\n",
       " 'hartree-kilogram relationship',\n",
       " 'hertz-kilogram relationship',\n",
       " 'inverse meter-kilogram relationship',\n",
       " 'joule-kilogram relationship',\n",
       " 'kelvin-kilogram relationship',\n",
       " 'kilogram-atomic mass unit relationship',\n",
       " 'kilogram-electron volt relationship',\n",
       " 'kilogram-hartree relationship',\n",
       " 'kilogram-hertz relationship',\n",
       " 'kilogram-inverse meter relationship',\n",
       " 'kilogram-joule relationship',\n",
       " 'kilogram-kelvin relationship']"
      ]
     },
     "execution_count": 5,
     "metadata": {},
     "output_type": "execute_result"
    }
   ],
   "source": [
    "scipy.constants.find (\"gram\") "
   ]
  },
  {
   "cell_type": "code",
   "execution_count": 6,
   "id": "2ce228b3",
   "metadata": {},
   "outputs": [
    {
     "name": "stdout",
     "output_type": "stream",
     "text": [
      "(1.6605390666e-27, 'kg', 5e-37)\n"
     ]
    }
   ],
   "source": [
    "print (scipy.constants.physical_constants [\"atomic mass unit-kilogram relationship\"])"
   ]
  },
  {
   "cell_type": "code",
   "execution_count": 7,
   "id": "f46e32e4",
   "metadata": {},
   "outputs": [
    {
     "name": "stdout",
     "output_type": "stream",
     "text": [
      "55\n"
     ]
    },
    {
     "data": {
      "text/plain": [
       "4.943153483052497e+18"
      ]
     },
     "execution_count": 7,
     "metadata": {},
     "output_type": "execute_result"
    }
   ],
   "source": [
    "x = float(input(\"\"))\n",
    "E = x* scipy.constants.c**2\n",
    "E"
   ]
  },
  {
   "cell_type": "code",
   "execution_count": 8,
   "id": "e169eca1",
   "metadata": {},
   "outputs": [
    {
     "name": "stdout",
     "output_type": "stream",
     "text": [
      "15 21 18.0 4.0\n"
     ]
    }
   ],
   "source": [
    "import scipy.stats as s\n",
    "import numpy as np\n",
    "x = np. array ([19 ,18 ,21 ,16 ,15 ,17 ,20 ,18]) ;\n",
    "print (s.tmin(x),s.tmax(x),s.tmean(x),s.tvar(x));"
   ]
  },
  {
   "cell_type": "code",
   "execution_count": 9,
   "id": "11406e7e",
   "metadata": {},
   "outputs": [
    {
     "name": "stdout",
     "output_type": "stream",
     "text": [
      "DescribeResult(nobs=8, minmax=(15, 21), mean=18.0, variance=4.0, skewness=0.0, kurtosis=-1.0)\n"
     ]
    }
   ],
   "source": [
    "print(s.describe(x));"
   ]
  },
  {
   "cell_type": "code",
   "execution_count": 10,
   "id": "93144543",
   "metadata": {},
   "outputs": [
    {
     "name": "stdout",
     "output_type": "stream",
     "text": [
      "61.85\n",
      "[12.55838994]\n",
      "[0.01194421]\n"
     ]
    }
   ],
   "source": [
    "import scipy . stats as stats\n",
    "import numpy as np\n",
    "student_scores = [[80] , [78] , [55] , [60] , [62] ,\n",
    "[59] , [48] , [49] , [51] , [54] ,\n",
    "[72] , [95] , [78] , [54] , [50] ,\n",
    "[61] , [57] , [56] , [65] , [53]];\n",
    "print (stats.tmean(student_scores))\n",
    "print (stats.tstd(student_scores))\n",
    "print ((62 - stats.tmean(student_scores)) / stats.tstd(student_scores ))"
   ]
  },
  {
   "cell_type": "code",
   "execution_count": 11,
   "id": "5afbd8a1",
   "metadata": {},
   "outputs": [
    {
     "name": "stdout",
     "output_type": "stream",
     "text": [
      "Z1 = [1.44524896]\n",
      "Z2 = [1.28599288]\n",
      "Z3 = [-0.54545209]\n",
      "Z4 = [-0.14731188]\n",
      "Z5 = [0.01194421]\n",
      "Z6 = [-0.22693992]\n",
      "Z7 = [-1.10284838]\n",
      "Z8 = [-1.02322034]\n",
      "Z9 = [-0.86396425]\n",
      "Z10 = [-0.62508013]\n",
      "Z11 = [0.80822462]\n",
      "Z12 = [2.63966959]\n",
      "Z13 = [1.28599288]\n",
      "Z14 = [-0.62508013]\n",
      "Z15 = [-0.9435923]\n",
      "Z16 = [-0.06768384]\n",
      "Z17 = [-0.386196]\n",
      "Z18 = [-0.46582404]\n",
      "Z19 = [0.25082833]\n",
      "Z20 = [-0.70470817]\n"
     ]
    }
   ],
   "source": [
    "count = 1\n",
    "for x in student_scores:\n",
    "    Z = (x-stats.tmean(student_scores))/stats.tstd(student_scores)\n",
    "    print(\"Z%d =\"%count,Z)\n",
    "    count += 1"
   ]
  },
  {
   "cell_type": "code",
   "execution_count": null,
   "id": "78372fc3",
   "metadata": {},
   "outputs": [],
   "source": []
  }
 ],
 "metadata": {
  "kernelspec": {
   "display_name": "Python 3",
   "language": "python",
   "name": "python3"
  },
  "language_info": {
   "codemirror_mode": {
    "name": "ipython",
    "version": 3
   },
   "file_extension": ".py",
   "mimetype": "text/x-python",
   "name": "python",
   "nbconvert_exporter": "python",
   "pygments_lexer": "ipython3",
   "version": "3.8.8"
  }
 },
 "nbformat": 4,
 "nbformat_minor": 5
}
